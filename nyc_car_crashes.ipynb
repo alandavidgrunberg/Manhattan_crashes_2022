{
 "cells": [
  {
   "cell_type": "markdown",
   "id": "88878d4b",
   "metadata": {},
   "source": [
    "## Manhattan Car Crash Data 2022"
   ]
  },
  {
   "cell_type": "markdown",
   "id": "ccab2c09",
   "metadata": {},
   "source": [
    "### <i> dataset exploration, cleaning, & feature engineering </i>"
   ]
  },
  {
   "cell_type": "markdown",
   "id": "68f77b34",
   "metadata": {},
   "source": [
    "Data source: https://data.cityofnewyork.us/Public-Safety/Motor-Vehicle-Collisions-Crashes/h9gi-nx95 <br>\n",
    "Notebook by Alan Grunberg, https://github.com/alandavidgrunberg"
   ]
  },
  {
   "cell_type": "markdown",
   "id": "b5a7214e",
   "metadata": {},
   "source": [
    "<b><i>loading Pandas + original data into DataFrame</b></i>"
   ]
  },
  {
   "cell_type": "code",
   "execution_count": 1,
   "id": "8e445639",
   "metadata": {},
   "outputs": [],
   "source": [
    "import pandas as pd"
   ]
  },
  {
   "cell_type": "code",
   "execution_count": 2,
   "id": "9e5f8205",
   "metadata": {},
   "outputs": [],
   "source": [
    "df_orig = pd.read_csv(\"data/motor_vehicle_collisions_original.csv\")"
   ]
  },
  {
   "cell_type": "code",
   "execution_count": 3,
   "id": "fc5d6359",
   "metadata": {},
   "outputs": [],
   "source": [
    "df = df_orig.copy()"
   ]
  },
  {
   "cell_type": "code",
   "execution_count": 4,
   "id": "1597e989",
   "metadata": {},
   "outputs": [
    {
     "data": {
      "text/html": [
       "<div>\n",
       "<style scoped>\n",
       "    .dataframe tbody tr th:only-of-type {\n",
       "        vertical-align: middle;\n",
       "    }\n",
       "\n",
       "    .dataframe tbody tr th {\n",
       "        vertical-align: top;\n",
       "    }\n",
       "\n",
       "    .dataframe thead th {\n",
       "        text-align: right;\n",
       "    }\n",
       "</style>\n",
       "<table border=\"1\" class=\"dataframe\">\n",
       "  <thead>\n",
       "    <tr style=\"text-align: right;\">\n",
       "      <th></th>\n",
       "      <th>CRASH DATE</th>\n",
       "      <th>CRASH TIME</th>\n",
       "      <th>BOROUGH</th>\n",
       "      <th>ZIP CODE</th>\n",
       "      <th>LATITUDE</th>\n",
       "      <th>LONGITUDE</th>\n",
       "      <th>LOCATION</th>\n",
       "      <th>ON STREET NAME</th>\n",
       "      <th>CROSS STREET NAME</th>\n",
       "      <th>OFF STREET NAME</th>\n",
       "      <th>...</th>\n",
       "      <th>CONTRIBUTING FACTOR VEHICLE 2</th>\n",
       "      <th>CONTRIBUTING FACTOR VEHICLE 3</th>\n",
       "      <th>CONTRIBUTING FACTOR VEHICLE 4</th>\n",
       "      <th>CONTRIBUTING FACTOR VEHICLE 5</th>\n",
       "      <th>COLLISION_ID</th>\n",
       "      <th>VEHICLE TYPE CODE 1</th>\n",
       "      <th>VEHICLE TYPE CODE 2</th>\n",
       "      <th>VEHICLE TYPE CODE 3</th>\n",
       "      <th>VEHICLE TYPE CODE 4</th>\n",
       "      <th>VEHICLE TYPE CODE 5</th>\n",
       "    </tr>\n",
       "  </thead>\n",
       "  <tbody>\n",
       "    <tr>\n",
       "      <th>0</th>\n",
       "      <td>09/11/2021</td>\n",
       "      <td>2:39</td>\n",
       "      <td>NaN</td>\n",
       "      <td>NaN</td>\n",
       "      <td>NaN</td>\n",
       "      <td>NaN</td>\n",
       "      <td>NaN</td>\n",
       "      <td>WHITESTONE EXPRESSWAY</td>\n",
       "      <td>20 AVENUE</td>\n",
       "      <td>NaN</td>\n",
       "      <td>...</td>\n",
       "      <td>Unspecified</td>\n",
       "      <td>NaN</td>\n",
       "      <td>NaN</td>\n",
       "      <td>NaN</td>\n",
       "      <td>4455765.0</td>\n",
       "      <td>Sedan</td>\n",
       "      <td>Sedan</td>\n",
       "      <td>NaN</td>\n",
       "      <td>NaN</td>\n",
       "      <td>NaN</td>\n",
       "    </tr>\n",
       "    <tr>\n",
       "      <th>1</th>\n",
       "      <td>03/26/2022</td>\n",
       "      <td>11:45</td>\n",
       "      <td>NaN</td>\n",
       "      <td>NaN</td>\n",
       "      <td>NaN</td>\n",
       "      <td>NaN</td>\n",
       "      <td>NaN</td>\n",
       "      <td>QUEENSBORO BRIDGE UPPER</td>\n",
       "      <td>NaN</td>\n",
       "      <td>NaN</td>\n",
       "      <td>...</td>\n",
       "      <td>NaN</td>\n",
       "      <td>NaN</td>\n",
       "      <td>NaN</td>\n",
       "      <td>NaN</td>\n",
       "      <td>4513547.0</td>\n",
       "      <td>Sedan</td>\n",
       "      <td>NaN</td>\n",
       "      <td>NaN</td>\n",
       "      <td>NaN</td>\n",
       "      <td>NaN</td>\n",
       "    </tr>\n",
       "    <tr>\n",
       "      <th>2</th>\n",
       "      <td>06/29/2022</td>\n",
       "      <td>6:55</td>\n",
       "      <td>NaN</td>\n",
       "      <td>NaN</td>\n",
       "      <td>NaN</td>\n",
       "      <td>NaN</td>\n",
       "      <td>NaN</td>\n",
       "      <td>THROGS NECK BRIDGE</td>\n",
       "      <td>NaN</td>\n",
       "      <td>NaN</td>\n",
       "      <td>...</td>\n",
       "      <td>Unspecified</td>\n",
       "      <td>NaN</td>\n",
       "      <td>NaN</td>\n",
       "      <td>NaN</td>\n",
       "      <td>4541903.0</td>\n",
       "      <td>Sedan</td>\n",
       "      <td>Pick-up Truck</td>\n",
       "      <td>NaN</td>\n",
       "      <td>NaN</td>\n",
       "      <td>NaN</td>\n",
       "    </tr>\n",
       "    <tr>\n",
       "      <th>3</th>\n",
       "      <td>09/11/2021</td>\n",
       "      <td>9:35</td>\n",
       "      <td>BROOKLYN</td>\n",
       "      <td>11208.0</td>\n",
       "      <td>40.667202</td>\n",
       "      <td>-73.866500</td>\n",
       "      <td>(40.667202, -73.8665)</td>\n",
       "      <td>NaN</td>\n",
       "      <td>NaN</td>\n",
       "      <td>1211      LORING AVENUE</td>\n",
       "      <td>...</td>\n",
       "      <td>NaN</td>\n",
       "      <td>NaN</td>\n",
       "      <td>NaN</td>\n",
       "      <td>NaN</td>\n",
       "      <td>4456314.0</td>\n",
       "      <td>Sedan</td>\n",
       "      <td>NaN</td>\n",
       "      <td>NaN</td>\n",
       "      <td>NaN</td>\n",
       "      <td>NaN</td>\n",
       "    </tr>\n",
       "    <tr>\n",
       "      <th>4</th>\n",
       "      <td>12/14/2021</td>\n",
       "      <td>8:13</td>\n",
       "      <td>BROOKLYN</td>\n",
       "      <td>11233.0</td>\n",
       "      <td>40.683304</td>\n",
       "      <td>-73.917274</td>\n",
       "      <td>(40.683304, -73.917274)</td>\n",
       "      <td>SARATOGA AVENUE</td>\n",
       "      <td>DECATUR STREET</td>\n",
       "      <td>NaN</td>\n",
       "      <td>...</td>\n",
       "      <td>NaN</td>\n",
       "      <td>NaN</td>\n",
       "      <td>NaN</td>\n",
       "      <td>NaN</td>\n",
       "      <td>4486609.0</td>\n",
       "      <td>NaN</td>\n",
       "      <td>NaN</td>\n",
       "      <td>NaN</td>\n",
       "      <td>NaN</td>\n",
       "      <td>NaN</td>\n",
       "    </tr>\n",
       "  </tbody>\n",
       "</table>\n",
       "<p>5 rows × 29 columns</p>\n",
       "</div>"
      ],
      "text/plain": [
       "   CRASH DATE CRASH TIME   BOROUGH  ZIP CODE   LATITUDE  LONGITUDE  \\\n",
       "0  09/11/2021       2:39       NaN       NaN        NaN        NaN   \n",
       "1  03/26/2022      11:45       NaN       NaN        NaN        NaN   \n",
       "2  06/29/2022       6:55       NaN       NaN        NaN        NaN   \n",
       "3  09/11/2021       9:35  BROOKLYN   11208.0  40.667202 -73.866500   \n",
       "4  12/14/2021       8:13  BROOKLYN   11233.0  40.683304 -73.917274   \n",
       "\n",
       "                  LOCATION           ON STREET NAME CROSS STREET NAME  \\\n",
       "0                      NaN    WHITESTONE EXPRESSWAY         20 AVENUE   \n",
       "1                      NaN  QUEENSBORO BRIDGE UPPER               NaN   \n",
       "2                      NaN       THROGS NECK BRIDGE               NaN   \n",
       "3    (40.667202, -73.8665)                      NaN               NaN   \n",
       "4  (40.683304, -73.917274)          SARATOGA AVENUE    DECATUR STREET   \n",
       "\n",
       "           OFF STREET NAME  ...  CONTRIBUTING FACTOR VEHICLE 2  \\\n",
       "0                      NaN  ...                    Unspecified   \n",
       "1                      NaN  ...                            NaN   \n",
       "2                      NaN  ...                    Unspecified   \n",
       "3  1211      LORING AVENUE  ...                            NaN   \n",
       "4                      NaN  ...                            NaN   \n",
       "\n",
       "   CONTRIBUTING FACTOR VEHICLE 3  CONTRIBUTING FACTOR VEHICLE 4  \\\n",
       "0                            NaN                            NaN   \n",
       "1                            NaN                            NaN   \n",
       "2                            NaN                            NaN   \n",
       "3                            NaN                            NaN   \n",
       "4                            NaN                            NaN   \n",
       "\n",
       "   CONTRIBUTING FACTOR VEHICLE 5  COLLISION_ID  VEHICLE TYPE CODE 1  \\\n",
       "0                            NaN     4455765.0                Sedan   \n",
       "1                            NaN     4513547.0                Sedan   \n",
       "2                            NaN     4541903.0                Sedan   \n",
       "3                            NaN     4456314.0                Sedan   \n",
       "4                            NaN     4486609.0                  NaN   \n",
       "\n",
       "   VEHICLE TYPE CODE 2  VEHICLE TYPE CODE 3 VEHICLE TYPE CODE 4  \\\n",
       "0                Sedan                  NaN                 NaN   \n",
       "1                  NaN                  NaN                 NaN   \n",
       "2        Pick-up Truck                  NaN                 NaN   \n",
       "3                  NaN                  NaN                 NaN   \n",
       "4                  NaN                  NaN                 NaN   \n",
       "\n",
       "  VEHICLE TYPE CODE 5  \n",
       "0                 NaN  \n",
       "1                 NaN  \n",
       "2                 NaN  \n",
       "3                 NaN  \n",
       "4                 NaN  \n",
       "\n",
       "[5 rows x 29 columns]"
      ]
     },
     "execution_count": 4,
     "metadata": {},
     "output_type": "execute_result"
    }
   ],
   "source": [
    "df.head()"
   ]
  },
  {
   "cell_type": "code",
   "execution_count": 5,
   "id": "6462e28d",
   "metadata": {},
   "outputs": [
    {
     "name": "stdout",
     "output_type": "stream",
     "text": [
      "<class 'pandas.core.frame.DataFrame'>\n",
      "RangeIndex: 1199042 entries, 0 to 1199041\n",
      "Data columns (total 29 columns):\n",
      " #   Column                         Non-Null Count    Dtype  \n",
      "---  ------                         --------------    -----  \n",
      " 0   CRASH DATE                     1199042 non-null  object \n",
      " 1   CRASH TIME                     1199038 non-null  object \n",
      " 2   BOROUGH                        776108 non-null   object \n",
      " 3   ZIP CODE                       775897 non-null   float64\n",
      " 4   LATITUDE                       1090977 non-null  float64\n",
      " 5   LONGITUDE                      1090977 non-null  float64\n",
      " 6   LOCATION                       1090977 non-null  object \n",
      " 7   ON STREET NAME                 906899 non-null   object \n",
      " 8   CROSS STREET NAME              599549 non-null   object \n",
      " 9   OFF STREET NAME                284620 non-null   object \n",
      " 10  NUMBER OF PERSONS INJURED      1199020 non-null  float64\n",
      " 11  NUMBER OF PERSONS KILLED       1199007 non-null  float64\n",
      " 12  NUMBER OF PEDESTRIANS INJURED  1199038 non-null  float64\n",
      " 13  NUMBER OF PEDESTRIANS KILLED   1199038 non-null  float64\n",
      " 14  NUMBER OF CYCLIST INJURED      1199038 non-null  float64\n",
      " 15  NUMBER OF CYCLIST KILLED       1199038 non-null  float64\n",
      " 16  NUMBER OF MOTORIST INJURED     1199038 non-null  float64\n",
      " 17  NUMBER OF MOTORIST KILLED      1199038 non-null  float64\n",
      " 18  CONTRIBUTING FACTOR VEHICLE 1  1194775 non-null  object \n",
      " 19  CONTRIBUTING FACTOR VEHICLE 2  999670 non-null   object \n",
      " 20  CONTRIBUTING FACTOR VEHICLE 3  87174 non-null    object \n",
      " 21  CONTRIBUTING FACTOR VEHICLE 4  20135 non-null    object \n",
      " 22  CONTRIBUTING FACTOR VEHICLE 5  5563 non-null     object \n",
      " 23  COLLISION_ID                   1199037 non-null  float64\n",
      " 24  VEHICLE TYPE CODE 1            1188754 non-null  object \n",
      " 25  VEHICLE TYPE CODE 2            924721 non-null   object \n",
      " 26  VEHICLE TYPE CODE 3            82248 non-null    object \n",
      " 27  VEHICLE TYPE CODE 4            19066 non-null    object \n",
      " 28  VEHICLE TYPE CODE 5            5315 non-null     object \n",
      "dtypes: float64(12), object(17)\n",
      "memory usage: 265.3+ MB\n"
     ]
    }
   ],
   "source": [
    "df.info()"
   ]
  },
  {
   "cell_type": "markdown",
   "id": "1ee252fa",
   "metadata": {},
   "source": [
    "<b><i>removing unneeded columns </i></b>"
   ]
  },
  {
   "cell_type": "code",
   "execution_count": 6,
   "id": "be4ff95a",
   "metadata": {},
   "outputs": [],
   "source": [
    "df = df[['LATITUDE','LONGITUDE','NUMBER OF PEDESTRIANS INJURED','NUMBER OF PEDESTRIANS KILLED','CRASH DATE','CRASH TIME','BOROUGH']]\n"
   ]
  },
  {
   "cell_type": "markdown",
   "id": "3149ced4",
   "metadata": {},
   "source": [
    "<b><i>dropping rows with missing values</i></b>"
   ]
  },
  {
   "cell_type": "code",
   "execution_count": 7,
   "id": "f8933139",
   "metadata": {},
   "outputs": [],
   "source": [
    "df = df.dropna()"
   ]
  },
  {
   "cell_type": "markdown",
   "id": "635ec7f0",
   "metadata": {},
   "source": [
    "<b><i>dropping rows without pedestrian casualties</i></b>"
   ]
  },
  {
   "cell_type": "code",
   "execution_count": 8,
   "id": "91ca1afd",
   "metadata": {},
   "outputs": [],
   "source": [
    "df = df[(df['NUMBER OF PEDESTRIANS INJURED'] != 0) | (df['NUMBER OF PEDESTRIANS KILLED'] != 0)]"
   ]
  },
  {
   "cell_type": "markdown",
   "id": "26a16473",
   "metadata": {},
   "source": [
    "<b><i>keeping only rows where crashes ocured in Manhattan</i></b>"
   ]
  },
  {
   "cell_type": "code",
   "execution_count": 9,
   "id": "3158f148",
   "metadata": {},
   "outputs": [],
   "source": [
    "df = df[df['BOROUGH']== 'MANHATTAN']"
   ]
  },
  {
   "cell_type": "markdown",
   "id": "1995748c",
   "metadata": {},
   "source": [
    "<b><i>converting crash date and time info to Pandas datetime objects</i></b>"
   ]
  },
  {
   "cell_type": "code",
   "execution_count": 10,
   "id": "d6cc67ef",
   "metadata": {},
   "outputs": [],
   "source": [
    "df['CRASH TIME'] = df['CRASH TIME'].str.zfill(5)"
   ]
  },
  {
   "cell_type": "code",
   "execution_count": 11,
   "id": "49610131",
   "metadata": {},
   "outputs": [],
   "source": [
    "df['CRASH DATE'] = df['CRASH DATE'].str.replace('/','')\n",
    "df['CRASH TIME'] = df['CRASH TIME'].str.replace(':','')"
   ]
  },
  {
   "cell_type": "code",
   "execution_count": 12,
   "id": "38faa2dc",
   "metadata": {},
   "outputs": [],
   "source": [
    "df['date time'] = df['CRASH DATE'] + df['CRASH TIME']"
   ]
  },
  {
   "cell_type": "code",
   "execution_count": 13,
   "id": "51c31db9",
   "metadata": {},
   "outputs": [],
   "source": [
    "df['CRASH DATETIME'] = pd.to_datetime(df['date time'], format='%m%d%Y%H%M')"
   ]
  },
  {
   "cell_type": "code",
   "execution_count": 14,
   "id": "e3870438",
   "metadata": {},
   "outputs": [],
   "source": [
    "df = df.drop(columns=['date time','CRASH DATE','CRASH TIME'])"
   ]
  },
  {
   "cell_type": "markdown",
   "id": "b8a49c9f",
   "metadata": {},
   "source": [
    "<b><i>sorting rows by datetime</i></b>"
   ]
  },
  {
   "cell_type": "code",
   "execution_count": 15,
   "id": "3d3b6a1f",
   "metadata": {},
   "outputs": [],
   "source": [
    "df = df.sort_values(by=['CRASH DATETIME'])"
   ]
  },
  {
   "cell_type": "markdown",
   "id": "f857f36c",
   "metadata": {},
   "source": [
    "<b><i>slicing off earlier rows to leave only crashes in 2022</i></b>"
   ]
  },
  {
   "cell_type": "code",
   "execution_count": 16,
   "id": "e1e80604",
   "metadata": {},
   "outputs": [],
   "source": [
    "df = df[8600:]"
   ]
  },
  {
   "cell_type": "code",
   "execution_count": 17,
   "id": "4882a7ee",
   "metadata": {},
   "outputs": [
    {
     "data": {
      "text/html": [
       "<div>\n",
       "<style scoped>\n",
       "    .dataframe tbody tr th:only-of-type {\n",
       "        vertical-align: middle;\n",
       "    }\n",
       "\n",
       "    .dataframe tbody tr th {\n",
       "        vertical-align: top;\n",
       "    }\n",
       "\n",
       "    .dataframe thead th {\n",
       "        text-align: right;\n",
       "    }\n",
       "</style>\n",
       "<table border=\"1\" class=\"dataframe\">\n",
       "  <thead>\n",
       "    <tr style=\"text-align: right;\">\n",
       "      <th></th>\n",
       "      <th>LATITUDE</th>\n",
       "      <th>LONGITUDE</th>\n",
       "      <th>NUMBER OF PEDESTRIANS INJURED</th>\n",
       "      <th>NUMBER OF PEDESTRIANS KILLED</th>\n",
       "      <th>BOROUGH</th>\n",
       "      <th>CRASH DATETIME</th>\n",
       "    </tr>\n",
       "  </thead>\n",
       "  <tbody>\n",
       "    <tr>\n",
       "      <th>61248</th>\n",
       "      <td>40.789055</td>\n",
       "      <td>-73.948610</td>\n",
       "      <td>1.0</td>\n",
       "      <td>0.0</td>\n",
       "      <td>MANHATTAN</td>\n",
       "      <td>2022-01-20 15:34:00</td>\n",
       "    </tr>\n",
       "    <tr>\n",
       "      <th>68990</th>\n",
       "      <td>40.713840</td>\n",
       "      <td>-73.992730</td>\n",
       "      <td>1.0</td>\n",
       "      <td>0.0</td>\n",
       "      <td>MANHATTAN</td>\n",
       "      <td>2022-01-21 13:56:00</td>\n",
       "    </tr>\n",
       "    <tr>\n",
       "      <th>61411</th>\n",
       "      <td>40.753370</td>\n",
       "      <td>-73.974655</td>\n",
       "      <td>1.0</td>\n",
       "      <td>0.0</td>\n",
       "      <td>MANHATTAN</td>\n",
       "      <td>2022-01-21 14:29:00</td>\n",
       "    </tr>\n",
       "    <tr>\n",
       "      <th>66248</th>\n",
       "      <td>40.792920</td>\n",
       "      <td>-73.945790</td>\n",
       "      <td>1.0</td>\n",
       "      <td>0.0</td>\n",
       "      <td>MANHATTAN</td>\n",
       "      <td>2022-01-22 18:00:00</td>\n",
       "    </tr>\n",
       "    <tr>\n",
       "      <th>67796</th>\n",
       "      <td>40.741970</td>\n",
       "      <td>-73.980865</td>\n",
       "      <td>1.0</td>\n",
       "      <td>0.0</td>\n",
       "      <td>MANHATTAN</td>\n",
       "      <td>2022-01-23 02:55:00</td>\n",
       "    </tr>\n",
       "  </tbody>\n",
       "</table>\n",
       "</div>"
      ],
      "text/plain": [
       "        LATITUDE  LONGITUDE  NUMBER OF PEDESTRIANS INJURED  \\\n",
       "61248  40.789055 -73.948610                            1.0   \n",
       "68990  40.713840 -73.992730                            1.0   \n",
       "61411  40.753370 -73.974655                            1.0   \n",
       "66248  40.792920 -73.945790                            1.0   \n",
       "67796  40.741970 -73.980865                            1.0   \n",
       "\n",
       "       NUMBER OF PEDESTRIANS KILLED    BOROUGH      CRASH DATETIME  \n",
       "61248                           0.0  MANHATTAN 2022-01-20 15:34:00  \n",
       "68990                           0.0  MANHATTAN 2022-01-21 13:56:00  \n",
       "61411                           0.0  MANHATTAN 2022-01-21 14:29:00  \n",
       "66248                           0.0  MANHATTAN 2022-01-22 18:00:00  \n",
       "67796                           0.0  MANHATTAN 2022-01-23 02:55:00  "
      ]
     },
     "execution_count": 17,
     "metadata": {},
     "output_type": "execute_result"
    }
   ],
   "source": [
    "df.head()"
   ]
  },
  {
   "cell_type": "code",
   "execution_count": 18,
   "id": "0493300f",
   "metadata": {},
   "outputs": [
    {
     "name": "stdout",
     "output_type": "stream",
     "text": [
      "<class 'pandas.core.frame.DataFrame'>\n",
      "Int64Index: 732 entries, 61248 to 948867\n",
      "Data columns (total 6 columns):\n",
      " #   Column                         Non-Null Count  Dtype         \n",
      "---  ------                         --------------  -----         \n",
      " 0   LATITUDE                       732 non-null    float64       \n",
      " 1   LONGITUDE                      732 non-null    float64       \n",
      " 2   NUMBER OF PEDESTRIANS INJURED  732 non-null    float64       \n",
      " 3   NUMBER OF PEDESTRIANS KILLED   732 non-null    float64       \n",
      " 4   BOROUGH                        732 non-null    object        \n",
      " 5   CRASH DATETIME                 732 non-null    datetime64[ns]\n",
      "dtypes: datetime64[ns](1), float64(4), object(1)\n",
      "memory usage: 40.0+ KB\n"
     ]
    }
   ],
   "source": [
    "df.info()"
   ]
  },
  {
   "cell_type": "code",
   "execution_count": 19,
   "id": "822ef9c6",
   "metadata": {},
   "outputs": [],
   "source": [
    "df.to_csv(\"data/motor_vehicle_collisions_prepared.csv\")"
   ]
  }
 ],
 "metadata": {
  "kernelspec": {
   "display_name": "Python 3 (ipykernel)",
   "language": "python",
   "name": "python3"
  },
  "language_info": {
   "codemirror_mode": {
    "name": "ipython",
    "version": 3
   },
   "file_extension": ".py",
   "mimetype": "text/x-python",
   "name": "python",
   "nbconvert_exporter": "python",
   "pygments_lexer": "ipython3",
   "version": "3.10.6"
  },
  "toc": {
   "base_numbering": 1,
   "nav_menu": {},
   "number_sections": true,
   "sideBar": true,
   "skip_h1_title": false,
   "title_cell": "Table of Contents",
   "title_sidebar": "Contents",
   "toc_cell": false,
   "toc_position": {},
   "toc_section_display": true,
   "toc_window_display": false
  }
 },
 "nbformat": 4,
 "nbformat_minor": 5
}
